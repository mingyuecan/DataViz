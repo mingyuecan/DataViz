{
 "cells": [
  {
   "cell_type": "code",
   "execution_count": 1,
   "metadata": {
    "collapsed": true
   },
   "outputs": [],
   "source": [
    "import pandas as pd\n",
    "%matplotlib inline\n",
    "import haversine as hv\n",
    "import numpy as np\n",
    "from ipywidgets import (widgets, HBox, VBox, Layout, interact)\n",
    "import bqplot.pyplot as plt\n",
    "import us\n",
    "from matplotlib.pyplot import imshow\n",
    "import matplotlib.pyplot as mpl"
   ]
  },
  {
   "cell_type": "code",
   "execution_count": 2,
   "metadata": {
    "collapsed": true
   },
   "outputs": [],
   "source": [
    "# Read in \n",
    "location = pd.read_csv(\"/home/mavis22/work/data-readonly/transportable_array/location.txt\", delimiter=\"\\t\", names=[\"longitude\",\"latitude\",\"a\",\"b\"])\n",
    "del location[\"a\"], location[\"b\"]\n",
    "# From examples_week10.ipynb (IS590DV Class example)"
   ]
  },
  {
   "cell_type": "code",
   "execution_count": 3,
   "metadata": {
    "collapsed": true
   },
   "outputs": [],
   "source": [
    "# Tohoku : 142.369, 38.322\n",
    "Tohoku=(142.369, 38.322)"
   ]
  },
  {
   "cell_type": "code",
   "execution_count": 4,
   "metadata": {
    "collapsed": true
   },
   "outputs": [],
   "source": [
    "# Calculate the distances\n",
    "distance=[]\n",
    "for row in location.iterrows():\n",
    "    station = (row[1][0],row[1][1])\n",
    "    distance.append(hv.haversine(Tohoku,station))"
   ]
  },
  {
   "cell_type": "code",
   "execution_count": 5,
   "metadata": {
    "collapsed": true
   },
   "outputs": [],
   "source": [
    "# Add distance column to location DataFrame\n",
    "location[\"distance\"]=distance"
   ]
  },
  {
   "cell_type": "code",
   "execution_count": 6,
   "metadata": {
    "collapsed": true
   },
   "outputs": [],
   "source": [
    "location[\"order\"]=location.index"
   ]
  },
  {
   "cell_type": "code",
   "execution_count": 7,
   "metadata": {
    "collapsed": true
   },
   "outputs": [],
   "source": [
    "# Sort by distacnes (acsending)\n",
    "location = location.sort_values(by=['distance'])"
   ]
  },
  {
   "cell_type": "code",
   "execution_count": 8,
   "metadata": {
    "collapsed": true
   },
   "outputs": [],
   "source": [
    "order=list(location[\"order\"])"
   ]
  },
  {
   "cell_type": "code",
   "execution_count": 9,
   "metadata": {
    "collapsed": true
   },
   "outputs": [],
   "source": [
    "# Read in detector data\n",
    "detector=pd.read_csv(\"/home/mavis22/work/data-readonly/transportable_array/data_tohoku_norm_transpose.csv\",names=np.arange(0,438), index_col=False)"
   ]
  },
  {
   "cell_type": "code",
   "execution_count": 10,
   "metadata": {
    "collapsed": true
   },
   "outputs": [],
   "source": [
    "ordered_detector = detector[order[0]]\n",
    "for each in order[1:]:\n",
    "    ordered_detector = pd.concat([ordered_detector,detector[each]],axis=1)"
   ]
  },
  {
   "cell_type": "code",
   "execution_count": 11,
   "metadata": {
    "collapsed": true
   },
   "outputs": [],
   "source": [
    "# Add time range column, from week 10 example\n",
    "time = pd.date_range(\"2:46PM\", \"6:46PM\", freq=\"1s\")\n",
    "time -= time[0]\n",
    "ordered_detector[\"time\"] = time\n",
    "ordered_detector.set_index(\"time\", inplace=True)"
   ]
  },
  {
   "cell_type": "code",
   "execution_count": 12,
   "metadata": {},
   "outputs": [
    {
     "name": "stderr",
     "output_type": "stream",
     "text": [
      "/opt/conda/lib/python3.6/site-packages/ipykernel_launcher.py:1: RuntimeWarning: divide by zero encountered in log\n",
      "  \"\"\"Entry point for launching an IPython kernel.\n"
     ]
    }
   ],
   "source": [
    "od = np.log(ordered_detector.values**2)\n",
    "od = od.transpose()"
   ]
  },
  {
   "cell_type": "code",
   "execution_count": 13,
   "metadata": {
    "collapsed": true
   },
   "outputs": [],
   "source": [
    "from __future__ import print_function\n",
    "from bqplot import *"
   ]
  },
  {
   "cell_type": "code",
   "execution_count": 14,
   "metadata": {
    "collapsed": true
   },
   "outputs": [],
   "source": [
    "# Custom Time Slider\n",
    "time = widgets.IntSlider(min=0,max=14400, step=1, readout=False)\n",
    "def out(time):\n",
    "    hour = time//3600\n",
    "    time=time-hour*3600\n",
    "    minute = time//60\n",
    "    time=time-minute*60\n",
    "    second = time\n",
    "    if hour<10:\n",
    "        hour='0'+str(hour)\n",
    "    else:\n",
    "        hour=str(hour)\n",
    "    if minute<10:\n",
    "        minute='0'+str(minute)\n",
    "    else:\n",
    "        minute=str(minute)\n",
    "    if second<10:\n",
    "        second='0'+str(second)\n",
    "    else:\n",
    "        second=str(second)\n",
    "  \n",
    "    output=hour+\":\"+minute+\":\"+second\n",
    "    print(output)\n",
    "\n",
    "time_out = widgets.interactive_output(out, {'time':time})\n",
    "\n",
    "time_slider = widgets.HBox([time, time_out])\n",
    "\n",
    "def update_thing(event):\n",
    "    print(event)"
   ]
  },
  {
   "cell_type": "code",
   "execution_count": 15,
   "metadata": {},
   "outputs": [
    {
     "data": {
      "application/vnd.jupyter.widget-view+json": {
       "model_id": "3c49d45b0e80449cba5a0bf8e7f7082e",
       "version_major": 2,
       "version_minor": 0
      },
      "text/html": [
       "<p>Failed to display Jupyter Widget of type <code>HBox</code>.</p>\n",
       "<p>\n",
       "  If you're reading this message in the Jupyter Notebook or JupyterLab Notebook, it may mean\n",
       "  that the widgets JavaScript is still loading. If this message persists, it\n",
       "  likely means that the widgets JavaScript library is either not installed or\n",
       "  not enabled. See the <a href=\"https://ipywidgets.readthedocs.io/en/stable/user_install.html\">Jupyter\n",
       "  Widgets Documentation</a> for setup instructions.\n",
       "</p>\n",
       "<p>\n",
       "  If you're reading this message in another frontend (for example, a static\n",
       "  rendering on GitHub or <a href=\"https://nbviewer.jupyter.org/\">NBViewer</a>),\n",
       "  it may mean that your frontend doesn't currently support widgets.\n",
       "</p>\n"
      ],
      "text/plain": [
       "HBox(children=(IntSlider(value=0, max=14400, readout=False), Output(outputs=({'output_type': 'stream', 'text': '00:00:00\\n', 'name': 'stdout'},))))"
      ]
     },
     "metadata": {},
     "output_type": "display_data"
    }
   ],
   "source": [
    "time_slider"
   ]
  },
  {
   "cell_type": "code",
   "execution_count": 16,
   "metadata": {},
   "outputs": [
    {
     "data": {
      "application/vnd.jupyter.widget-view+json": {
       "model_id": "8c4212d08e98426d88013ddbea0fb3f1",
       "version_major": 2,
       "version_minor": 0
      },
      "text/html": [
       "<p>Failed to display Jupyter Widget of type <code>interactive</code>.</p>\n",
       "<p>\n",
       "  If you're reading this message in the Jupyter Notebook or JupyterLab Notebook, it may mean\n",
       "  that the widgets JavaScript is still loading. If this message persists, it\n",
       "  likely means that the widgets JavaScript library is either not installed or\n",
       "  not enabled. See the <a href=\"https://ipywidgets.readthedocs.io/en/stable/user_install.html\">Jupyter\n",
       "  Widgets Documentation</a> for setup instructions.\n",
       "</p>\n",
       "<p>\n",
       "  If you're reading this message in another frontend (for example, a static\n",
       "  rendering on GitHub or <a href=\"https://nbviewer.jupyter.org/\">NBViewer</a>),\n",
       "  it may mean that your frontend doesn't currently support widgets.\n",
       "</p>\n"
      ],
      "text/plain": [
       "interactive(children=(IntSlider(value=0, description='Time', max=14400), Output()), _dom_classes=('widget-interact',))"
      ]
     },
     "metadata": {},
     "output_type": "display_data"
    }
   ],
   "source": [
    "@interact(Time = widgets.IntSlider(min=0,max=14400, step=1, readout=True))\n",
    "def make_plot(Time):\n",
    "    time_slider=widgets.HBox([Time, time_out])\n",
    "    \n",
    "    x_sc = LinearScale()\n",
    "    y_sc = LinearScale()\n",
    "    # plt.clear()\n",
    "    \n",
    "    # map_res = Map(map_data=topo_load('map_data/USStatesMap.json'))\n",
    "    scatter_chart = plt.scatter(x=location['longitude'], y=location['latitude'],\n",
    "                                colors = ['White'],\n",
    "                           scales= {'color': ColorScale(colors=['White','Red'])},\n",
    "                               color=detector.iloc[Time])\n",
    "    scatter = Figure(marks=[scatter_chart], title='Detectors in U.S.', \n",
    "                     fig_margin={'top':50,'bottom':30, 'left':10, 'right':-30})\n",
    "    \n",
    "    \n",
    "    time_x=LinearScale()\n",
    "    wave_y=LinearScale()\n",
    "    ax_x=Axis(scale=time_x)\n",
    "    ax_y=Axis(scale=wave_y,orientation='vertical', label='')\n",
    "    line_marks = Lines(x=[], y=[], scales={'x':time_x, 'y':wave_y})\n",
    "    selected=detector[0]\n",
    "    \n",
    "    line_marks.x, line_marks.y = np.arange(0,14400,1), selected\n",
    "    ax_x.label, ax_y.label ='Time', 'Magnitude'\n",
    "    \n",
    "    \n",
    "    \n",
    "    line_marks.visible = True\n",
    "    lineplot = Figure(marks = [line_marks], fig_margin={'top':50, 'bottom':50, 'left':70, 'right':20})\n",
    "    lineplot.axes = [ax_x, ax_y]\n",
    "    lineplot.title='Waveform of Detector No.0'\n",
    "    \n",
    "    spect = mpl.imshow(od, aspect='auto', cmap='viridis',origin='lower')\n",
    "    line1 = mpl.axvline(Time, lw=4, color='r')\n",
    "    line2 = mpl.axhline(10, lw = 4, color='r')\n",
    "    mpl.axis('off')\n",
    "    \n",
    "    \n",
    "    def get_target(self, target):\n",
    "        if target['data'] != None:\n",
    "            \n",
    "                mpl.clf()\n",
    "                \n",
    "                selected=detector[target['data']['index']]\n",
    "                lineplot.title='Waveform of Detector No.{0}'.format(target['data']['index'])\n",
    "                line_marks.x, line_marks.y = np.arange(0,14400,1), selected\n",
    "                ax_x.label, ax_y.label ='Time', 'Magnitude'\n",
    "                lineplot.axes = [ax_x, ax_y]\n",
    "                \n",
    "                \n",
    "                spect = imshow(od, aspect='auto', cmap='viridis',origin='lower')\n",
    "                line1 = mpl.axvline(Time, lw=4, color='r')\n",
    "                line2 = mpl.axhline(target['data']['index'], lw = 4, color='r')\n",
    "                # line2.set_data([-10, 15000], [target['data']['index'],target['data']['index']])\n",
    "                mpl.axis('off')\n",
    "            \n",
    "                line_marks.visible = True\n",
    "                \n",
    "                # ax.plot([-100,15000],[target['data']['index'], target['data']['index']])\n",
    "                # fig.colorbar(im, ax=ax, shrink=0.5)\n",
    "\n",
    "        else:#when click on the background, lineplot will not be shown\n",
    "                ax_y.label, ax_x.lable, lineplot.title = '', '', ''\n",
    "                lineplot.axes = []\n",
    "                line_marks.visible = False\n",
    "        return(target['data']['index']) # Target is  dict type\n",
    "\n",
    "    scatter_chart.on_element_click(get_target)\n",
    "    \n",
    "    return VBox([scatter,lineplot])\n",
    "    \n",
    "    "
   ]
  }
 ],
 "metadata": {
  "kernelspec": {
   "display_name": "Python 3",
   "language": "python",
   "name": "python3"
  },
  "language_info": {
   "codemirror_mode": {
    "name": "ipython",
    "version": 3
   },
   "file_extension": ".py",
   "mimetype": "text/x-python",
   "name": "python",
   "nbconvert_exporter": "python",
   "pygments_lexer": "ipython3",
   "version": "3.6.3"
  }
 },
 "nbformat": 4,
 "nbformat_minor": 2
}
