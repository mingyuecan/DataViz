{
 "cells": [
  {
   "cell_type": "code",
   "execution_count": 3,
   "metadata": {
    "collapsed": true
   },
   "outputs": [],
   "source": [
    "import pandas as pd\n",
    "import matplotlib.pyplot as plt\n",
    "%matplotlib inline\n",
    "import haversine as hv\n",
    "import numpy as np\n",
    "import ipywidgets\n",
    "from math import exp"
   ]
  },
  {
   "cell_type": "code",
   "execution_count": 6,
   "metadata": {},
   "outputs": [],
   "source": [
    "# Read in \n",
    "location = pd.read_csv(\"/home/mavis22/work/Final project/Part 1/location.txt\", delimiter=\"\\t\", names=[\"longitude\",\"latitude\",\"a\",\"b\"])\n",
    "del location[\"a\"], location[\"b\"]\n",
    "# From examples_week10.ipynb (IS590DV Class example)"
   ]
  },
  {
   "cell_type": "code",
   "execution_count": 7,
   "metadata": {
    "collapsed": true
   },
   "outputs": [],
   "source": [
    "# Tohoku : 142.369, 38.322\n",
    "Tohoku=(142.369, 38.322)"
   ]
  },
  {
   "cell_type": "code",
   "execution_count": 8,
   "metadata": {
    "collapsed": true
   },
   "outputs": [],
   "source": [
    "# Calculate the distances\n",
    "distance=[]\n",
    "for row in location.iterrows():\n",
    "    station = (row[1][0],row[1][1])\n",
    "    distance.append(hv.haversine(Tohoku,station))"
   ]
  },
  {
   "cell_type": "code",
   "execution_count": 9,
   "metadata": {
    "collapsed": true
   },
   "outputs": [],
   "source": [
    "# Add distance column to location DataFrame\n",
    "location[\"distance\"]=distance"
   ]
  },
  {
   "cell_type": "code",
   "execution_count": 10,
   "metadata": {
    "collapsed": true
   },
   "outputs": [],
   "source": [
    "location[\"order\"]=location.index"
   ]
  },
  {
   "cell_type": "code",
   "execution_count": 11,
   "metadata": {
    "collapsed": true
   },
   "outputs": [],
   "source": [
    "# Sort by distacnes (acsending)\n",
    "location = location.sort_values(by=['distance'])"
   ]
  },
  {
   "cell_type": "code",
   "execution_count": 12,
   "metadata": {
    "collapsed": true
   },
   "outputs": [],
   "source": [
    "order=list(location[\"order\"])"
   ]
  },
  {
   "cell_type": "code",
   "execution_count": 14,
   "metadata": {},
   "outputs": [],
   "source": [
    "# Read in detector data\n",
    "detector=pd.read_csv(\"/home/mavis22/work/data-readonly/transportable_array/data_tohoku_norm_transpose.csv\",names=np.arange(0,438), index_col=False)"
   ]
  },
  {
   "cell_type": "code",
   "execution_count": 15,
   "metadata": {
    "collapsed": true
   },
   "outputs": [],
   "source": [
    "ordered_detector = detector[order[0]]\n",
    "for each in order[1:]:\n",
    "    ordered_detector = pd.concat([ordered_detector,detector[each]],axis=1)"
   ]
  },
  {
   "cell_type": "code",
   "execution_count": 16,
   "metadata": {
    "collapsed": true
   },
   "outputs": [],
   "source": [
    "# Add time range column, from week 10 example\n",
    "time = pd.date_range(\"2:46PM\", \"6:46PM\", freq=\"1s\")\n",
    "time -= time[0]\n",
    "ordered_detector[\"time\"] = time\n",
    "ordered_detector.set_index(\"time\", inplace=True)"
   ]
  },
  {
   "cell_type": "code",
   "execution_count": 17,
   "metadata": {},
   "outputs": [
    {
     "data": {
      "text/html": [
       "<div>\n",
       "<style scoped>\n",
       "    .dataframe tbody tr th:only-of-type {\n",
       "        vertical-align: middle;\n",
       "    }\n",
       "\n",
       "    .dataframe tbody tr th {\n",
       "        vertical-align: top;\n",
       "    }\n",
       "\n",
       "    .dataframe thead th {\n",
       "        text-align: right;\n",
       "    }\n",
       "</style>\n",
       "<table border=\"1\" class=\"dataframe\">\n",
       "  <thead>\n",
       "    <tr style=\"text-align: right;\">\n",
       "      <th></th>\n",
       "      <th>211</th>\n",
       "      <th>193</th>\n",
       "      <th>228</th>\n",
       "      <th>244</th>\n",
       "      <th>194</th>\n",
       "      <th>165</th>\n",
       "      <th>257</th>\n",
       "      <th>151</th>\n",
       "      <th>288</th>\n",
       "      <th>122</th>\n",
       "      <th>...</th>\n",
       "      <th>63</th>\n",
       "      <th>50</th>\n",
       "      <th>121</th>\n",
       "      <th>359</th>\n",
       "      <th>375</th>\n",
       "      <th>242</th>\n",
       "      <th>286</th>\n",
       "      <th>269</th>\n",
       "      <th>304</th>\n",
       "      <th>287</th>\n",
       "    </tr>\n",
       "    <tr>\n",
       "      <th>time</th>\n",
       "      <th></th>\n",
       "      <th></th>\n",
       "      <th></th>\n",
       "      <th></th>\n",
       "      <th></th>\n",
       "      <th></th>\n",
       "      <th></th>\n",
       "      <th></th>\n",
       "      <th></th>\n",
       "      <th></th>\n",
       "      <th></th>\n",
       "      <th></th>\n",
       "      <th></th>\n",
       "      <th></th>\n",
       "      <th></th>\n",
       "      <th></th>\n",
       "      <th></th>\n",
       "      <th></th>\n",
       "      <th></th>\n",
       "      <th></th>\n",
       "      <th></th>\n",
       "    </tr>\n",
       "  </thead>\n",
       "  <tbody>\n",
       "    <tr>\n",
       "      <th>00:00:00</th>\n",
       "      <td>-0.001273</td>\n",
       "      <td>0.002861</td>\n",
       "      <td>0.000524</td>\n",
       "      <td>-0.000501</td>\n",
       "      <td>0.000636</td>\n",
       "      <td>0.000501</td>\n",
       "      <td>-0.000090</td>\n",
       "      <td>-0.000892</td>\n",
       "      <td>0.000211</td>\n",
       "      <td>0.000612</td>\n",
       "      <td>...</td>\n",
       "      <td>NaN</td>\n",
       "      <td>-0.000249</td>\n",
       "      <td>-0.000137</td>\n",
       "      <td>0.000077</td>\n",
       "      <td>-0.000191</td>\n",
       "      <td>0.002128</td>\n",
       "      <td>0.000049</td>\n",
       "      <td>0.000025</td>\n",
       "      <td>-0.000400</td>\n",
       "      <td>0.000063</td>\n",
       "    </tr>\n",
       "    <tr>\n",
       "      <th>00:00:01</th>\n",
       "      <td>-0.001865</td>\n",
       "      <td>0.003157</td>\n",
       "      <td>0.000142</td>\n",
       "      <td>-0.000291</td>\n",
       "      <td>0.000863</td>\n",
       "      <td>0.000159</td>\n",
       "      <td>-0.000125</td>\n",
       "      <td>-0.001083</td>\n",
       "      <td>0.000425</td>\n",
       "      <td>0.000394</td>\n",
       "      <td>...</td>\n",
       "      <td>NaN</td>\n",
       "      <td>-0.000256</td>\n",
       "      <td>-0.000088</td>\n",
       "      <td>0.000217</td>\n",
       "      <td>0.000294</td>\n",
       "      <td>0.001515</td>\n",
       "      <td>0.000009</td>\n",
       "      <td>-0.000152</td>\n",
       "      <td>0.000151</td>\n",
       "      <td>-0.000126</td>\n",
       "    </tr>\n",
       "    <tr>\n",
       "      <th>00:00:02</th>\n",
       "      <td>-0.002425</td>\n",
       "      <td>0.003419</td>\n",
       "      <td>-0.000229</td>\n",
       "      <td>-0.000084</td>\n",
       "      <td>0.001077</td>\n",
       "      <td>-0.000176</td>\n",
       "      <td>-0.000157</td>\n",
       "      <td>-0.001258</td>\n",
       "      <td>0.000629</td>\n",
       "      <td>0.000177</td>\n",
       "      <td>...</td>\n",
       "      <td>NaN</td>\n",
       "      <td>-0.000261</td>\n",
       "      <td>-0.000039</td>\n",
       "      <td>0.000351</td>\n",
       "      <td>0.000764</td>\n",
       "      <td>0.000905</td>\n",
       "      <td>-0.000029</td>\n",
       "      <td>-0.000323</td>\n",
       "      <td>0.000685</td>\n",
       "      <td>-0.000309</td>\n",
       "    </tr>\n",
       "    <tr>\n",
       "      <th>00:00:03</th>\n",
       "      <td>-0.002937</td>\n",
       "      <td>0.003642</td>\n",
       "      <td>-0.000577</td>\n",
       "      <td>0.000114</td>\n",
       "      <td>0.001272</td>\n",
       "      <td>-0.000493</td>\n",
       "      <td>-0.000186</td>\n",
       "      <td>-0.001414</td>\n",
       "      <td>0.000818</td>\n",
       "      <td>-0.000030</td>\n",
       "      <td>...</td>\n",
       "      <td>NaN</td>\n",
       "      <td>-0.000263</td>\n",
       "      <td>0.000008</td>\n",
       "      <td>0.000476</td>\n",
       "      <td>0.001206</td>\n",
       "      <td>0.000318</td>\n",
       "      <td>-0.000067</td>\n",
       "      <td>-0.000482</td>\n",
       "      <td>0.001187</td>\n",
       "      <td>-0.000480</td>\n",
       "    </tr>\n",
       "    <tr>\n",
       "      <th>00:00:04</th>\n",
       "      <td>-0.003392</td>\n",
       "      <td>0.003827</td>\n",
       "      <td>-0.000895</td>\n",
       "      <td>0.000298</td>\n",
       "      <td>0.001443</td>\n",
       "      <td>-0.000787</td>\n",
       "      <td>-0.000212</td>\n",
       "      <td>-0.001546</td>\n",
       "      <td>0.000985</td>\n",
       "      <td>-0.000221</td>\n",
       "      <td>...</td>\n",
       "      <td>NaN</td>\n",
       "      <td>-0.000263</td>\n",
       "      <td>0.000052</td>\n",
       "      <td>0.000588</td>\n",
       "      <td>0.001610</td>\n",
       "      <td>-0.000232</td>\n",
       "      <td>-0.000103</td>\n",
       "      <td>-0.000627</td>\n",
       "      <td>0.001645</td>\n",
       "      <td>-0.000635</td>\n",
       "    </tr>\n",
       "  </tbody>\n",
       "</table>\n",
       "<p>5 rows × 438 columns</p>\n",
       "</div>"
      ],
      "text/plain": [
       "               211       193       228       244       194       165  \\\n",
       "time                                                                   \n",
       "00:00:00 -0.001273  0.002861  0.000524 -0.000501  0.000636  0.000501   \n",
       "00:00:01 -0.001865  0.003157  0.000142 -0.000291  0.000863  0.000159   \n",
       "00:00:02 -0.002425  0.003419 -0.000229 -0.000084  0.001077 -0.000176   \n",
       "00:00:03 -0.002937  0.003642 -0.000577  0.000114  0.001272 -0.000493   \n",
       "00:00:04 -0.003392  0.003827 -0.000895  0.000298  0.001443 -0.000787   \n",
       "\n",
       "               257       151       288       122    ...     63        50   \\\n",
       "time                                                ...                     \n",
       "00:00:00 -0.000090 -0.000892  0.000211  0.000612    ...     NaN -0.000249   \n",
       "00:00:01 -0.000125 -0.001083  0.000425  0.000394    ...     NaN -0.000256   \n",
       "00:00:02 -0.000157 -0.001258  0.000629  0.000177    ...     NaN -0.000261   \n",
       "00:00:03 -0.000186 -0.001414  0.000818 -0.000030    ...     NaN -0.000263   \n",
       "00:00:04 -0.000212 -0.001546  0.000985 -0.000221    ...     NaN -0.000263   \n",
       "\n",
       "               121       359       375       242       286       269  \\\n",
       "time                                                                   \n",
       "00:00:00 -0.000137  0.000077 -0.000191  0.002128  0.000049  0.000025   \n",
       "00:00:01 -0.000088  0.000217  0.000294  0.001515  0.000009 -0.000152   \n",
       "00:00:02 -0.000039  0.000351  0.000764  0.000905 -0.000029 -0.000323   \n",
       "00:00:03  0.000008  0.000476  0.001206  0.000318 -0.000067 -0.000482   \n",
       "00:00:04  0.000052  0.000588  0.001610 -0.000232 -0.000103 -0.000627   \n",
       "\n",
       "               304       287  \n",
       "time                          \n",
       "00:00:00 -0.000400  0.000063  \n",
       "00:00:01  0.000151 -0.000126  \n",
       "00:00:02  0.000685 -0.000309  \n",
       "00:00:03  0.001187 -0.000480  \n",
       "00:00:04  0.001645 -0.000635  \n",
       "\n",
       "[5 rows x 438 columns]"
      ]
     },
     "execution_count": 17,
     "metadata": {},
     "output_type": "execute_result"
    }
   ],
   "source": [
    "ordered_detector.head()"
   ]
  },
  {
   "cell_type": "code",
   "execution_count": 18,
   "metadata": {},
   "outputs": [
    {
     "name": "stderr",
     "output_type": "stream",
     "text": [
      "/opt/conda/lib/python3.6/site-packages/ipykernel_launcher.py:2: RuntimeWarning: divide by zero encountered in log\n",
      "  \n"
     ]
    }
   ],
   "source": [
    "od = ordered_detector.values\n",
    "od = np.log(od**2).transpose()"
   ]
  },
  {
   "cell_type": "code",
   "execution_count": 19,
   "metadata": {},
   "outputs": [
    {
     "data": {
      "application/vnd.jupyter.widget-view+json": {
       "model_id": "9fab34e632c84718b0448e579e2ec346",
       "version_major": 2,
       "version_minor": 0
      },
      "text/html": [
       "<p>Failed to display Jupyter Widget of type <code>interactive</code>.</p>\n",
       "<p>\n",
       "  If you're reading this message in the Jupyter Notebook or JupyterLab Notebook, it may mean\n",
       "  that the widgets JavaScript is still loading. If this message persists, it\n",
       "  likely means that the widgets JavaScript library is either not installed or\n",
       "  not enabled. See the <a href=\"https://ipywidgets.readthedocs.io/en/stable/user_install.html\">Jupyter\n",
       "  Widgets Documentation</a> for setup instructions.\n",
       "</p>\n",
       "<p>\n",
       "  If you're reading this message in another frontend (for example, a static\n",
       "  rendering on GitHub or <a href=\"https://nbviewer.jupyter.org/\">NBViewer</a>),\n",
       "  it may mean that your frontend doesn't currently support widgets.\n",
       "</p>\n"
      ],
      "text/plain": [
       "interactive(children=(IntSlider(value=7200, description='Time', max=14400), Dropdown(description='Num', options=(0, 1, 2, 3, 4, 5, 6, 7, 8, 9, 10, 11, 12, 13, 14, 15, 16, 17, 18, 19, 20, 21, 22, 23, 24, 25, 26, 27, 28, 29, 30, 31, 32, 33, 34, 35, 36, 37, 38, 39, 40, 41, 42, 43, 44, 45, 46, 47, 48, 49, 50, 51, 52, 53, 54, 55, 56, 57, 58, 59, 60, 61, 62, 63, 64, 65, 66, 67, 68, 69, 70, 71, 72, 73, 74, 75, 76, 77, 78, 79, 80, 81, 82, 83, 84, 85, 86, 87, 88, 89, 90, 91, 92, 93, 94, 95, 96, 97, 98, 99, 100, 101, 102, 103, 104, 105, 106, 107, 108, 109, 110, 111, 112, 113, 114, 115, 116, 117, 118, 119, 120, 121, 122, 123, 124, 125, 126, 127, 128, 129, 130, 131, 132, 133, 134, 135, 136, 137, 138, 139, 140, 141, 142, 143, 144, 145, 146, 147, 148, 149, 150, 151, 152, 153, 154, 155, 156, 157, 158, 159, 160, 161, 162, 163, 164, 165, 166, 167, 168, 169, 170, 171, 172, 173, 174, 175, 176, 177, 178, 179, 180, 181, 182, 183, 184, 185, 186, 187, 188, 189, 190, 191, 192, 193, 194, 195, 196, 197, 198, 199, 200, 201, 202, 203, 204, 205, 206, 207, 208, 209, 210, 211, 212, 213, 214, 215, 216, 217, 218, 219, 220, 221, 222, 223, 224, 225, 226, 227, 228, 229, 230, 231, 232, 233, 234, 235, 236, 237, 238, 239, 240, 241, 242, 243, 244, 245, 246, 247, 248, 249, 250, 251, 252, 253, 254, 255, 256, 257, 258, 259, 260, 261, 262, 263, 264, 265, 266, 267, 268, 269, 270, 271, 272, 273, 274, 275, 276, 277, 278, 279, 280, 281, 282, 283, 284, 285, 286, 287, 288, 289, 290, 291, 292, 293, 294, 295, 296, 297, 298, 299, 300, 301, 302, 303, 304, 305, 306, 307, 308, 309, 310, 311, 312, 313, 314, 315, 316, 317, 318, 319, 320, 321, 322, 323, 324, 325, 326, 327, 328, 329, 330, 331, 332, 333, 334, 335, 336, 337, 338, 339, 340, 341, 342, 343, 344, 345, 346, 347, 348, 349, 350, 351, 352, 353, 354, 355, 356, 357, 358, 359, 360, 361, 362, 363, 364, 365, 366, 367, 368, 369, 370, 371, 372, 373, 374, 375, 376, 377, 378, 379, 380, 381, 382, 383, 384, 385, 386, 387, 388, 389, 390, 391, 392, 393, 394, 395, 396, 397, 398, 399, 400, 401, 402, 403, 404, 405, 406, 407, 408, 409, 410, 411, 412, 413, 414, 415, 416, 417, 418, 419, 420, 421, 422, 423, 424, 425, 426, 427, 428, 429, 430, 431, 432, 433, 434, 435, 436, 437), value=0), Output()), _dom_classes=('widget-interact',))"
      ]
     },
     "metadata": {},
     "output_type": "display_data"
    }
   ],
   "source": [
    "@ipywidgets.interact(Time=(0,14400,1), Num=list(np.arange(0,438)))\n",
    "def make_plot(Time, Num=0):\n",
    "    fig = plt.figure(figsize=(12,8))\n",
    "    # Plot the detectore on US map\n",
    "    ax11 = plt.subplot2grid((12,8), (1,0), colspan=4, rowspan=6)\n",
    "    ax11.scatter(location[\"longitude\"],location[\"latitude\"], c=detector.iloc[Time], cmap=\"Reds\")\n",
    "    # Reference; https://stackoverflow.com/questions/8202605/matplotlib-scatterplot-colour-as-a-function-of-a-third-variable\n",
    "    ax11.set_title(\"Visualizing Tohoku Earthquake Detectors\")\n",
    "    ax11.axes.get_xaxis().set_visible(False)\n",
    "    ax11.axes.get_yaxis().set_visible(False)\n",
    "    # Reference: https://stackoverflow.com/questions/2176424/hiding-axis-text-in-matplotlib-plots\n",
    "    ax21 = plt.subplot2grid((12,8), (0,5), colspan=3, rowspan=4)\n",
    "    plt.imshow(od, aspect='auto', cmap='viridis', origin='lower')\n",
    "    plt.plot([-100,15000],[Num, Num], 'k-', lw=1)\n",
    "    plt.plot([Time, Time], [-10, 500], 'k-', lw=1)\n",
    "    #y 轴坐标从上到下 0：437，需要调整\n",
    "    ax21.patch.set_visible(False)\n",
    "    ax21.axis('off')\n",
    "    ax22 = plt.subplot2grid((12,8), (4,5), colspan=3, rowspan=3)\n",
    "    ax22.plot(detector[Num])\n",
    "    ax22.set_title(label = \"Waveform of Detector No.\"+str(Num))\n",
    "    plt.show()"
   ]
  },
  {
   "cell_type": "markdown",
   "metadata": {},
   "source": [
    "# Audio"
   ]
  },
  {
   "cell_type": "code",
   "execution_count": 21,
   "metadata": {
    "collapsed": true
   },
   "outputs": [],
   "source": [
    "from IPython.display import Audio"
   ]
  },
  {
   "cell_type": "code",
   "execution_count": 25,
   "metadata": {},
   "outputs": [
    {
     "data": {
      "application/vnd.jupyter.widget-view+json": {
       "model_id": "5fcfd85cd1c5411f8e2cb56f4a77e058",
       "version_major": 2,
       "version_minor": 0
      },
      "text/html": [
       "<p>Failed to display Jupyter Widget of type <code>interactive</code>.</p>\n",
       "<p>\n",
       "  If you're reading this message in the Jupyter Notebook or JupyterLab Notebook, it may mean\n",
       "  that the widgets JavaScript is still loading. If this message persists, it\n",
       "  likely means that the widgets JavaScript library is either not installed or\n",
       "  not enabled. See the <a href=\"https://ipywidgets.readthedocs.io/en/stable/user_install.html\">Jupyter\n",
       "  Widgets Documentation</a> for setup instructions.\n",
       "</p>\n",
       "<p>\n",
       "  If you're reading this message in another frontend (for example, a static\n",
       "  rendering on GitHub or <a href=\"https://nbviewer.jupyter.org/\">NBViewer</a>),\n",
       "  it may mean that your frontend doesn't currently support widgets.\n",
       "</p>\n"
      ],
      "text/plain": [
       "interactive(children=(Dropdown(description='detector', options=(0, 1, 2, 3, 4, 5, 6, 7, 8, 9, 10, 11, 12, 13, 14, 15, 16, 17, 18, 19, 20, 21, 22, 23, 24, 25, 26, 27, 28, 29, 30, 31, 32, 33, 34, 35, 36, 37, 38, 39, 40, 41, 42, 43, 44, 45, 46, 47, 48, 49, 50, 51, 52, 53, 54, 55, 56, 57, 58, 59, 60, 61, 62, 63, 64, 65, 66, 67, 68, 69, 70, 71, 72, 73, 74, 75, 76, 77, 78, 79, 80, 81, 82, 83, 84, 85, 86, 87, 88, 89, 90, 91, 92, 93, 94, 95, 96, 97, 98, 99, 100, 101, 102, 103, 104, 105, 106, 107, 108, 109, 110, 111, 112, 113, 114, 115, 116, 117, 118, 119, 120, 121, 122, 123, 124, 125, 126, 127, 128, 129, 130, 131, 132, 133, 134, 135, 136, 137, 138, 139, 140, 141, 142, 143, 144, 145, 146, 147, 148, 149, 150, 151, 152, 153, 154, 155, 156, 157, 158, 159, 160, 161, 162, 163, 164, 165, 166, 167, 168, 169, 170, 171, 172, 173, 174, 175, 176, 177, 178, 179, 180, 181, 182, 183, 184, 185, 186, 187, 188, 189, 190, 191, 192, 193, 194, 195, 196, 197, 198, 199, 200, 201, 202, 203, 204, 205, 206, 207, 208, 209, 210, 211, 212, 213, 214, 215, 216, 217, 218, 219, 220, 221, 222, 223, 224, 225, 226, 227, 228, 229, 230, 231, 232, 233, 234, 235, 236, 237, 238, 239, 240, 241, 242, 243, 244, 245, 246, 247, 248, 249, 250, 251, 252, 253, 254, 255, 256, 257, 258, 259, 260, 261, 262, 263, 264, 265, 266, 267, 268, 269, 270, 271, 272, 273, 274, 275, 276, 277, 278, 279, 280, 281, 282, 283, 284, 285, 286, 287, 288, 289, 290, 291, 292, 293, 294, 295, 296, 297, 298, 299, 300, 301, 302, 303, 304, 305, 306, 307, 308, 309, 310, 311, 312, 313, 314, 315, 316, 317, 318, 319, 320, 321, 322, 323, 324, 325, 326, 327, 328, 329, 330, 331, 332, 333, 334, 335, 336, 337, 338, 339, 340, 341, 342, 343, 344, 345, 346, 347, 348, 349, 350, 351, 352, 353, 354, 355, 356, 357, 358, 359, 360, 361, 362, 363, 364, 365, 366, 367, 368, 369, 370, 371, 372, 373, 374, 375, 376, 377, 378, 379, 380, 381, 382, 383, 384, 385, 386, 387, 388, 389, 390, 391, 392, 393, 394, 395, 396, 397, 398, 399, 400, 401, 402, 403, 404, 405, 406, 407, 408, 409, 410, 411, 412, 413, 414, 415, 416, 417, 418, 419, 420, 421, 422, 423, 424, 425, 426, 427, 428, 429, 430, 431, 432, 433, 434, 435, 436, 437), value=0), Output()), _dom_classes=('widget-interact',))"
      ]
     },
     "metadata": {},
     "output_type": "display_data"
    }
   ],
   "source": [
    "# Reference: Week 10 class example\n",
    "@ipywidgets.interact(detector=list(np.arange(0,438)))\n",
    "def audio(detector):\n",
    "    normed=(ordered_detector[detector]-ordered_detector[detector].min())/(ordered_detector[detector].max()-ordered_detector[detector].min())*2-1\n",
    "    return Audio(normed, rate=14400/3, autoplay=False)   \n",
    "  "
   ]
  },
  {
   "cell_type": "code",
   "execution_count": null,
   "metadata": {
    "collapsed": true
   },
   "outputs": [],
   "source": []
  }
 ],
 "metadata": {
  "kernelspec": {
   "display_name": "Python 3",
   "language": "python",
   "name": "python3"
  },
  "language_info": {
   "codemirror_mode": {
    "name": "ipython",
    "version": 3
   },
   "file_extension": ".py",
   "mimetype": "text/x-python",
   "name": "python",
   "nbconvert_exporter": "python",
   "pygments_lexer": "ipython3",
   "version": "3.6.3"
  }
 },
 "nbformat": 4,
 "nbformat_minor": 2
}
