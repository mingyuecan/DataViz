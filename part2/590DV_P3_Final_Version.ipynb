{
 "cells": [
  {
   "cell_type": "code",
   "execution_count": 1,
   "metadata": {
    "collapsed": true,
    "scrolled": true
   },
   "outputs": [],
   "source": [
    "%matplotlib inline"
   ]
  },
  {
   "cell_type": "code",
   "execution_count": 35,
   "metadata": {
    "collapsed": true
   },
   "outputs": [],
   "source": [
    "import pandas as pd\n",
    "import numpy as np\n",
    "from bqplot import *\n",
    "import us\n",
    "import bqplot.pyplot as plt\n",
    "from ipywidgets import (widgets, HBox, VBox, Layout, interact)"
   ]
  },
  {
   "cell_type": "code",
   "execution_count": 3,
   "metadata": {
    "collapsed": true
   },
   "outputs": [],
   "source": [
    "names = [\"date\", \"city\", \"state\", \"country\", \"shape\", \"duration_seconds\",\n",
    "         \"duration_reported\", \"description\", \"report_date\", \"latitude\",\n",
    "         \"longitude\"]\n",
    "\n",
    "fn = 'ufo-scrubbed-geocoded-time-standardized.csv'\n",
    "ufo = pd.read_csv(fn, names = names, parse_dates = [\"date\", \"report_date\"])\n",
    "\n",
    "abbr_to_fits = us.states.mapping('abbr', 'fips')\n",
    "ufo[\"fips\"] = ufo[\"state\"].apply(lambda a: int(abbr_to_fits.get(str(a).upper(), -1)))\n",
    "ufo_date = ufo.set_index(\"date\")\n",
    "ufo['year'] = ufo_date.index.year\n",
    "ufo = ufo[ufo['fips'] != -1]"
   ]
  },
  {
   "cell_type": "code",
   "execution_count": 4,
   "metadata": {
    "collapsed": true
   },
   "outputs": [],
   "source": [
    "fips_count = ufo.groupby(['fips','year'])['duration_seconds'].count()\n",
    "fips_sum = ufo.groupby(['fips','year'])['duration_seconds'].sum()\n",
    "fips = pd.DataFrame()"
   ]
  },
  {
   "cell_type": "code",
   "execution_count": 5,
   "metadata": {
    "collapsed": true
   },
   "outputs": [],
   "source": [
    "fips['total_sightings'] = fips_count\n",
    "fips['duration_seconds'] =fips_sum"
   ]
  },
  {
   "cell_type": "code",
   "execution_count": 6,
   "metadata": {
    "collapsed": true
   },
   "outputs": [],
   "source": [
    "fips = fips.reset_index(level=['fips','year'])"
   ]
  },
  {
   "cell_type": "code",
   "execution_count": 7,
   "metadata": {
    "collapsed": true
   },
   "outputs": [],
   "source": [
    "## get population of each state\n",
    "population=pd.read_csv('U.S._states_population.csv',na_values='n/a')\n",
    "population=population[(population['year']>=1910)&(population['year']<=2014)]\n",
    "ppl=pd.melt(population, id_vars=['year'], value_vars=list(population)[1:])\n",
    "ppl=ppl.rename(index=str, columns={\"variable\": \"state\", \"value\": \"population\"})\n",
    "ppl[\"fips\"] = ppl[\"state\"].apply(lambda a: int(abbr_to_fits.get(str(a).upper(), -1)))\n",
    "ppl['population']=ppl['population'].str.replace(\",\", \"\").astype(float)"
   ]
  },
  {
   "cell_type": "code",
   "execution_count": 8,
   "metadata": {
    "collapsed": true
   },
   "outputs": [],
   "source": [
    "## Merge population data with fips and normalize data\n",
    "fips=pd.merge(fips, ppl, how='left', on=['fips', 'year'])\n",
    "fips['normalized_total_sightings']=fips.total_sightings/fips.population*1000000\n",
    "fips['normalized_duration_seconds']=fips.duration_seconds/fips.population*1000000"
   ]
  },
  {
   "cell_type": "code",
   "execution_count": 9,
   "metadata": {
    "collapsed": true
   },
   "outputs": [],
   "source": [
    "import widgetsnbextension\n",
    "from IPython.display import display"
   ]
  },
  {
   "cell_type": "code",
   "execution_count": 118,
   "metadata": {},
   "outputs": [
    {
     "data": {
      "application/vnd.jupyter.widget-view+json": {
       "model_id": "5a12a3e55c554e3597084825e5255ca6",
       "version_major": 2,
       "version_minor": 0
      },
      "text/html": [
       "<p>Failed to display Jupyter Widget of type <code>interactive</code>.</p>\n",
       "<p>\n",
       "  If you're reading this message in the Jupyter Notebook or JupyterLab Notebook, it may mean\n",
       "  that the widgets JavaScript is still loading. If this message persists, it\n",
       "  likely means that the widgets JavaScript library is either not installed or\n",
       "  not enabled. See the <a href=\"https://ipywidgets.readthedocs.io/en/stable/user_install.html\">Jupyter\n",
       "  Widgets Documentation</a> for setup instructions.\n",
       "</p>\n",
       "<p>\n",
       "  If you're reading this message in another frontend (for example, a static\n",
       "  rendering on GitHub or <a href=\"https://nbviewer.jupyter.org/\">NBViewer</a>),\n",
       "  it may mean that your frontend doesn't currently support widgets.\n",
       "</p>\n"
      ],
      "text/plain": [
       "interactive(children=(Dropdown(description='field', options=('total_sightings', 'duration_seconds'), value='total_sightings'), IntSlider(value=2014, description='year', max=2014, min=1910), Dropdown(description='normalized', index=1, options=('Yes', 'No'), value='No'), Output()), _dom_classes=('widget-interact',))"
      ]
     },
     "metadata": {},
     "output_type": "display_data"
    }
   ],
   "source": [
    "@interact(field = [\"total_sightings\", \"duration_seconds\"], #create drop box of field\n",
    "          normalized = [\"Yes\",\"No\"], #normalized by population\n",
    "          year = (min(fips['year']),max(fips['year']),1))#create time slider\n",
    "\n",
    "def make_plot(field=\"total_sightings\", year=max(fips['year']), normalized=\"No\"):\n",
    "    fips_year = fips[fips['year']==int(year)]\n",
    "    if normalized == 'Yes':\n",
    "        for_title=field.split('_')\n",
    "        title_text='Normalized '+for_title[0]+' '+for_title[1]\n",
    "        field='normalized_'+field\n",
    "    else:\n",
    "        for_title=field.split('_')\n",
    "        title_text=for_title[0].title()+' '+for_title[1]\n",
    "    def_tt = Tooltip(fields=['name', 'color'], formats=['', ''], labels=['State', field])\n",
    "    map_res = Map(map_data=topo_load('map_data/USStatesMap.json'),\n",
    "                      colors = {'default_color':'Black'},\n",
    "                      scales = {'projection': AlbersUSA(),\n",
    "                                'color': ColorScale(colors=['DeepSkyBlue','Gray','Red'])},\n",
    "                      color=dict(zip(fips_year['fips'],fips_year[field])),\n",
    "                      tooltip=def_tt) #refered to starting code from Prof. Turk\n",
    "\n",
    "    ax_c = ColorAxis( \n",
    "    scale=ColorScale(colors=['DeepSkyBlue','Gray','Red']), \n",
    "    orientation='horizontal', \n",
    "    side='right',\n",
    "    label='High',\n",
    "    label_location='end',\n",
    "    num_ticks=0)\n",
    "\n",
    "    map_fig = Figure(marks=[map_res], title=\"{0} visualization\".format(title_text), \n",
    "                     fig_margin={'top':50, 'bottom':50, 'left':-10, 'right':50},\n",
    "                    axes=[ax_c])\n",
    "    \n",
    "    map_res.interactions={'click':'tooltip', 'hover':'tooltip'}\n",
    "    \n",
    "    dt_x = LinearScale()\n",
    "    sc_y = LinearScale()\n",
    "    ax_x = Axis(scale=dt_x)\n",
    "    ax_y = Axis(scale=sc_y, orientation='vertical', label='')\n",
    "    line_marks = Lines(x=[], y=[], scales={'x':dt_x, 'y':sc_y})\n",
    "    lineplot = Figure(marks = [line_marks], fig_margin={'top':50, 'bottom':50, 'left':70, 'right':20})\n",
    "\n",
    "    def state_selected_callback(selected_1, selected_2):\n",
    "        if selected_2['data'] != None:\n",
    "            fips_state=fips[fips['fips']==int(selected_2['data']['id'])]\n",
    "            lineplot.title='The {0} {1} of {2}'.format(for_title[0], for_title[1], selected_2['data']['name'])\n",
    "            line_marks.x, line_marks.y = fips_state['year'], fips_state[field]\n",
    "            ax_x.label, ax_y.label ='Year', field\n",
    "            lineplot.axes = [ax_x, ax_y]\n",
    "            line_marks.visible = True\n",
    "        else:#when click on the background, lineplot will not be shown\n",
    "            ax_y.label, ax_x.lable, lineplot.title = '', '', ''\n",
    "            lineplot.axes = []\n",
    "            line_marks.visible = False\n",
    "      \n",
    "    map_res.on_element_click(state_selected_callback)\n",
    "    map_res.on_background_click(state_selected_callback)\n",
    "    #clicking background will hidden the \n",
    "    \n",
    "    return HBox([map_fig, lineplot])\n",
    "    "
   ]
  },
  {
   "cell_type": "code",
   "execution_count": null,
   "metadata": {
    "collapsed": true
   },
   "outputs": [],
   "source": []
  }
 ],
 "metadata": {
  "kernelspec": {
   "display_name": "Python 3",
   "language": "python",
   "name": "python3"
  },
  "language_info": {
   "codemirror_mode": {
    "name": "ipython",
    "version": 3
   },
   "file_extension": ".py",
   "mimetype": "text/x-python",
   "name": "python",
   "nbconvert_exporter": "python",
   "pygments_lexer": "ipython3",
   "version": "3.6.3"
  }
 },
 "nbformat": 4,
 "nbformat_minor": 2
}
